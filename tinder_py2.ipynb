{
 "cells": [
  {
   "cell_type": "code",
   "execution_count": 1,
   "metadata": {},
   "outputs": [],
   "source": [
    "import pandas as pd\n",
    "import numpy as np\n",
    "#import pillow\n",
    "#import wordcloud"
   ]
  },
  {
   "cell_type": "code",
   "execution_count": 2,
   "metadata": {},
   "outputs": [],
   "source": [
    "df = pd.read_csv('/users/tinnaing/desktop/pro/tinder-fun/tinder_df.csv')"
   ]
  },
  {
   "cell_type": "code",
   "execution_count": 3,
   "metadata": {},
   "outputs": [],
   "source": [
    "text_ls = df['bio']"
   ]
  },
  {
   "cell_type": "code",
   "execution_count": 5,
   "metadata": {},
   "outputs": [],
   "source": [
    "import re, sys\n",
    "emoji_pattern = re.compile(\n",
    "    u\"(\\ud83d[\\ude00-\\ude4f])|\"  # emoticons\n",
    "    u\"(\\ud83d[\\u0000-\\uddff])|\"  # symbols & pictographs (2 of 2)\n",
    "    u\"(\\ud83d[\\ude80-\\udeff])|\"  # transport & map symbols\n",
    "    u\"(\\uD83E[\\uDD00-\\uDDFF])|\"\n",
    "    u\"(\\ud83c[\\udf00-\\uffff])|\"  # symbols & pictographs (1 of 2)\n",
    "    u\"(\\ud83c[\\udde0-\\uddff])|\"  # flags (iOS)\n",
    "    u\"([\\u2934\\u2935]\\uFE0F?)|\"\n",
    "    u\"([\\u3030\\u303D]\\uFE0F?)|\"\n",
    "    u\"([\\u3297\\u3299]\\uFE0F?)|\"\n",
    "    u\"([\\u203C\\u2049]\\uFE0F?)|\"\n",
    "    u\"([\\u00A9\\u00AE]\\uFE0F?)|\"\n",
    "    u\"([\\u2122\\u2139]\\uFE0F?)|\"\n",
    "    u\"(\\uD83C\\uDC04\\uFE0F?)|\"\n",
    "    u\"(\\uD83C\\uDCCF\\uFE0F?)|\"\n",
    "    u\"([\\u0023\\u002A\\u0030-\\u0039]\\uFE0F?\\u20E3)|\"\n",
    "    u\"(\\u24C2\\uFE0F?|[\\u2B05-\\u2B07\\u2B1B\\u2B1C\\u2B50\\u2B55]\\uFE0F?)|\"\n",
    "    u\"([\\u2600-\\u26FF]\\uFE0F?)|\"\n",
    "    u\"([\\u2700-\\u27BF]\\uFE0F?)\"\n",
    "    \"+\", flags=re.UNICODE) "
   ]
  },
  {
   "cell_type": "code",
   "execution_count": 6,
   "metadata": {},
   "outputs": [],
   "source": [
    "temp_ls = list()\n",
    "for i in range(0, len(text_ls)):\n",
    "    text = text_ls[i]\n",
    "    if isinstance(text, str):\n",
    "        text = text.decode('utf8')\n",
    "        text = emoji_pattern.sub(r'', text).encode('utf-8')\n",
    "        temp_ls.append(text)"
   ]
  },
  {
   "cell_type": "code",
   "execution_count": 8,
   "metadata": {},
   "outputs": [],
   "source": [
    "LATIN_1_CHARS = (\n",
    "    ('\\xe2\\x80\\x99', \"'\"),\n",
    "    ('\\xc3\\xa9', 'e'),\n",
    "    ('\\xe2\\x80\\x90', '-'),\n",
    "    ('\\xe2\\x80\\x91', '-'),\n",
    "    ('\\xe2\\x80\\x92', '-'),\n",
    "    ('\\xe2\\x80\\x93', '-'),\n",
    "    ('\\xe2\\x80\\x94', '-'),\n",
    "    ('\\xe2\\x80\\x94', '-'),\n",
    "    ('\\xe2\\x80\\x98', \"'\"),\n",
    "    ('\\xe2\\x80\\x9b', \"'\"),\n",
    "    ('\\xe2\\x80\\x9c', '\"'),\n",
    "    ('\\xe2\\x80\\x9c', '\"'),\n",
    "    ('\\xe2\\x80\\x9d', '\"'),\n",
    "    ('\\xe2\\x80\\x9e', '\"'),\n",
    "    ('\\xe2\\x80\\x9f', '\"'),\n",
    "    ('\\xe2\\x80\\xa6', '...'),\n",
    "    ('\\xe2\\x80\\xb2', \"'\"),\n",
    "    ('\\xe2\\x80\\xb3', \"'\"),\n",
    "    ('\\xe2\\x80\\xb4', \"'\"),\n",
    "    ('\\xe2\\x80\\xb5', \"'\"),\n",
    "    ('\\xe2\\x80\\xb6', \"'\"),\n",
    "    ('\\xe2\\x80\\xb7', \"'\"),\n",
    "    ('\\xe2\\x81\\xba', \"+\"),\n",
    "    ('\\xe2\\x81\\xbb', \"-\"),\n",
    "    ('\\xe2\\x81\\xbc', \"=\"),\n",
    "    ('\\xe2\\x81\\xbd', \"(\"),\n",
    "    ('\\xe2\\x81\\xbe', \")\")\n",
    ")\n",
    "\n",
    "\n",
    "def clean_latin1(data):\n",
    "    try:\n",
    "        return data.encode('utf-8')\n",
    "    except UnicodeDecodeError:\n",
    "        for _hex, _char in LATIN_1_CHARS:\n",
    "            data = data.replace(_hex, _char)\n",
    "        return data"
   ]
  },
  {
   "cell_type": "code",
   "execution_count": 28,
   "metadata": {},
   "outputs": [],
   "source": [
    "temp_ls_2 = list()\n",
    "for i in range(0, len(temp_ls)):\n",
    "    text = temp_ls[i]\n",
    "    text = clean_latin1(text).decode(\"utf-8\") \n",
    "    temp_ls_2.append(text)"
   ]
  },
  {
   "cell_type": "code",
   "execution_count": 29,
   "metadata": {},
   "outputs": [],
   "source": [
    "paragraph = ' '.join(temp_ls_2)"
   ]
  },
  {
   "cell_type": "code",
   "execution_count": 12,
   "metadata": {},
   "outputs": [],
   "source": [
    "file = open('/users/tinnaing/desktop/pro/tinder-fun/paragraph.txt', 'w') "
   ]
  },
  {
   "cell_type": "code",
   "execution_count": 13,
   "metadata": {},
   "outputs": [],
   "source": [
    "file.write(paragraph)"
   ]
  },
  {
   "cell_type": "code",
   "execution_count": 14,
   "metadata": {},
   "outputs": [],
   "source": [
    "file.close()"
   ]
  },
  {
   "cell_type": "code",
   "execution_count": 23,
   "metadata": {},
   "outputs": [],
   "source": [
    "import csv\n",
    "with open('/users/tinnaing/desktop/pro/tinder-fun/text_list.csv', 'wb') as myfile:\n",
    "    wr = csv.writer(myfile, quoting=csv.QUOTE_ALL)\n",
    "    wr.writerow(temp_ls_2)"
   ]
  },
  {
   "cell_type": "code",
   "execution_count": null,
   "metadata": {},
   "outputs": [],
   "source": []
  }
 ],
 "metadata": {
  "kernelspec": {
   "display_name": "Python 2",
   "language": "python",
   "name": "python2"
  },
  "language_info": {
   "codemirror_mode": {
    "name": "ipython",
    "version": 2
   },
   "file_extension": ".py",
   "mimetype": "text/x-python",
   "name": "python",
   "nbconvert_exporter": "python",
   "pygments_lexer": "ipython2",
   "version": "2.7.15"
  }
 },
 "nbformat": 4,
 "nbformat_minor": 2
}
